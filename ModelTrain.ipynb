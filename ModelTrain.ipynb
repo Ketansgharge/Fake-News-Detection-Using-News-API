{
 "cells": [
  {
   "cell_type": "code",
   "execution_count": null,
   "metadata": {},
   "outputs": [],
   "source": [
    "import requests\n",
    "import json\n",
    "import numpy as np\n",
    "import pandas as pd\n",
    "from sklearn.model_selection import train_test_split\n",
    "from sklearn.feature_extraction.text import TfidfVectorizer\n",
    "from sklearn.tree import DecisionTreeClassifier\n",
    "from sklearn.preprocessing import LabelEncoder\n",
    "import pickle\n",
    "\n",
    "# Fetching news titles from the News API\n",
    "# api_key = 'YOUR_NEWS_API_KEY'\n",
    "url = f'https://newsapi.org/v2/top-headlines?country=in&apiKey=9e65bee657184741a4882c72c6024990'\n",
    "response = requests.get(url)\n",
    "data = json.loads(response.content)\n",
    "\n",
    "# Extracting news titles\n",
    "news_titles = [article['title'] for article in data['articles']]\n",
    "\n",
    "# Generating labels (0 for reliable, 1 for unreliable)\n",
    "labels = [1,1,0,1,1,1,0,1,1,1]  # Assuming all fetched news titles are reliable\n",
    "\n",
    "# Creating a DataFrame with news and labels\n",
    "df = pd.DataFrame({'news': news_titles, 'label': labels})\n",
    "\n",
    "# Splitting the data into training and testing sets\n",
    "x_train, x_test, y_train, y_test = train_test_split(df['news'], df['label'], test_size=0.20)\n",
    "\n",
    "# Vectorizing the news titles\n",
    "vect = TfidfVectorizer()\n",
    "x_train_vect = vect.fit_transform(x_train)\n",
    "x_test_vect = vect.transform(x_test)\n",
    "\n",
    "# Training the Decision Tree Classifier\n",
    "model = DecisionTreeClassifier()\n",
    "model.fit(x_train_vect, y_train)\n",
    "\n",
    "# Evaluating the model\n",
    "score = model.score(x_test_vect, y_test)\n",
    "print(\"Model Accuracy:\", score)\n",
    "\n",
    "# Saving the vectorizer and the model\n",
    "pickle.dump(vect, open('vector.pkl', 'wb'))\n",
    "pickle.dump(model, open('model.pkl', 'wb'))\n"
   ]
  },
  {
   "cell_type": "code",
   "execution_count": null,
   "metadata": {},
   "outputs": [],
   "source": [
    "score"
   ]
  },
  {
   "cell_type": "code",
   "execution_count": null,
   "metadata": {},
   "outputs": [],
   "source": []
  }
 ],
 "metadata": {
  "language_info": {
   "name": "python"
  }
 },
 "nbformat": 4,
 "nbformat_minor": 2
}
